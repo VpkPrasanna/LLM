{
 "cells": [
  {
   "cell_type": "code",
   "execution_count": 17,
   "metadata": {},
   "outputs": [],
   "source": [
    "from langchain.memory import ConversationKGMemory\n",
    "import openai\n",
    "from langchain.memory import ConversationBufferMemory,ConversationSummaryMemory\n",
    "from langchain.llms import OpenAI\n",
    "from langchain.prompts.prompt import PromptTemplate\n",
    "from langchain.chains import ConversationChain\n",
    "from langchain.chat_models import ChatOpenAI\n",
    "from wandb.integration.openai import autolog"
   ]
  },
  {
   "cell_type": "code",
   "execution_count": 18,
   "metadata": {},
   "outputs": [],
   "source": [
    "import os\n",
    "from dotenv import load_dotenv, find_dotenv\n",
    "_ = load_dotenv(find_dotenv()) # read local .env file\n",
    "\n",
    "openai.api_key  = os.environ['OPENAI_KEY']"
   ]
  },
  {
   "cell_type": "code",
   "execution_count": 19,
   "metadata": {},
   "outputs": [
    {
     "name": "stderr",
     "output_type": "stream",
     "text": [
      "\u001b[34m\u001b[1mwandb\u001b[0m: Currently logged in as: \u001b[33mvpkprasanna\u001b[0m. Use \u001b[1m`wandb login --relogin`\u001b[0m to force relogin\n"
     ]
    },
    {
     "data": {
      "text/html": [
       "Tracking run with wandb version 0.15.8"
      ],
      "text/plain": [
       "<IPython.core.display.HTML object>"
      ]
     },
     "metadata": {},
     "output_type": "display_data"
    },
    {
     "data": {
      "text/html": [
       "Run data is saved locally in <code>c:\\Users\\vpkpr\\Downloads\\personalProjects\\LLM\\wandb\\run-20230808_225424-ut2iwpwt</code>"
      ],
      "text/plain": [
       "<IPython.core.display.HTML object>"
      ]
     },
     "metadata": {},
     "output_type": "display_data"
    },
    {
     "data": {
      "text/html": [
       "Syncing run <strong><a href='https://wandb.ai/vpkprasanna/Booking%20Bee%20Bot/runs/ut2iwpwt' target=\"_blank\">hopeful-haze-2</a></strong> to <a href='https://wandb.ai/vpkprasanna/Booking%20Bee%20Bot' target=\"_blank\">Weights & Biases</a> (<a href='https://wandb.me/run' target=\"_blank\">docs</a>)<br/>"
      ],
      "text/plain": [
       "<IPython.core.display.HTML object>"
      ]
     },
     "metadata": {},
     "output_type": "display_data"
    },
    {
     "data": {
      "text/html": [
       " View project at <a href='https://wandb.ai/vpkprasanna/Booking%20Bee%20Bot' target=\"_blank\">https://wandb.ai/vpkprasanna/Booking%20Bee%20Bot</a>"
      ],
      "text/plain": [
       "<IPython.core.display.HTML object>"
      ]
     },
     "metadata": {},
     "output_type": "display_data"
    },
    {
     "data": {
      "text/html": [
       " View run at <a href='https://wandb.ai/vpkprasanna/Booking%20Bee%20Bot/runs/ut2iwpwt' target=\"_blank\">https://wandb.ai/vpkprasanna/Booking%20Bee%20Bot/runs/ut2iwpwt</a>"
      ],
      "text/plain": [
       "<IPython.core.display.HTML object>"
      ]
     },
     "metadata": {},
     "output_type": "display_data"
    }
   ],
   "source": [
    "# start logging to W&B\n",
    "autolog({\"project\":\"Booking Bee Bot\",})"
   ]
  },
  {
   "cell_type": "code",
   "execution_count": 20,
   "metadata": {},
   "outputs": [],
   "source": [
    "# orgId= \"988e8cc5-61c9-4fec-ac12-9a56652f0cfd\"\n",
    "# url = \"https://dev.bookingbee.ai/api/slots/organization/988e8cc5-61c9-4fec-ac12-9a56652f0cfd/getMultipleConsequentSlotsForDateTime\"\n",
    "# headers = {\n",
    "#         'accountId': 'b5c641d8-2f83-4361-8914-7836a02d38c5',\n",
    "#         'accountkey': '390b32aa-b00c-458e-8627-e117c05972c9',\n",
    "#         'Content-Type': 'application/json'\n",
    "#         }"
   ]
  },
  {
   "cell_type": "code",
   "execution_count": 21,
   "metadata": {},
   "outputs": [],
   "source": [
    "delimiter = \"####\"\n",
    "# system_message = \"\"\"The following is a friendly conversation between a human and an AI. The AI is Appointment booking receptionist named Tayni for the Catalyst Salon and provides specific details from its context.\n",
    "# If the AI does not know the answer to a question, it truthfully says it does not know. The AI ONLY uses information contained in the \"Relevant Information\" section and does not hallucinate.\n",
    "# don't asks the about stylist details, stylist is optional. If the user asks about a stylist, then only show the list of stylists\n",
    "\n",
    "# Relevant Information:\n",
    "\n",
    "# Services\n",
    "# \t•\tHaircut\n",
    "# \t•\tBeard trim - 20 minutes\n",
    "# \t•\tHairspa - 45 minutes\n",
    "# \t•\tFacial - 45 minutes\n",
    "\n",
    "# Stylist\n",
    "# \t•\tSabarish Dhanarajan - Haircut, Beard trim, Hairspa, Facial\n",
    "# \t•\tdivya r - Hairspa, Facial\n",
    "# \t•\tSabneesh Brown - Beard trim, Haircut\n",
    "\n",
    "\n",
    "# Haircut \n",
    "\n",
    "# Prasanna (Master Stylist) August 15 - 20 , 10AM to 12PM \n",
    "# nithsh August 12 -14 ,12PM to 3 PM \n",
    "\n",
    "# Available Slots:\n",
    "#     From Aug 15 to Aug 25 9 AM to 12 PM, 1 PM to 01:30 PM and 2 PM to 6 PM\n",
    "    \n",
    "# Current conversation:\n",
    "# {history}\n",
    "# Human: {input}\n",
    "# AI Assistant:\n",
    "# \"\"\""
   ]
  },
  {
   "cell_type": "code",
   "execution_count": null,
   "metadata": {},
   "outputs": [],
   "source": []
  },
  {
   "cell_type": "code",
   "execution_count": null,
   "metadata": {},
   "outputs": [],
   "source": [
    "# - **Sasha**: Master Stylist\n",
    "#   - Services: Precision haircuts and creative coloring.\n",
    "#   - Available Time Slots: 10:00 AM - 1:00 PM, 2:00 PM - 5:00 PM\n",
    "#   - Availability: August 15th - August 20th\n",
    "\n",
    "# - **Elena**: Spa Therapist\n",
    "#   - Services: Relaxing massages and rejuvenating facials.\n",
    "#   - Available Time Slots: 11:00 AM - 2:00 PM, 3:00 PM - 6:00 PM\n",
    "#   - Availability: August 16th - August 21st"
   ]
  },
  {
   "cell_type": "code",
   "execution_count": 15,
   "metadata": {},
   "outputs": [],
   "source": [
    "service_list = [\"haircut\",\"massage\",\"spa\",\"beard trim\",\"hair colouring\"]"
   ]
  },
  {
   "cell_type": "code",
   "execution_count": 16,
   "metadata": {},
   "outputs": [],
   "source": [
    "text = \"i am looking for haircut\""
   ]
  },
  {
   "cell_type": "code",
   "execution_count": null,
   "metadata": {},
   "outputs": [],
   "source": []
  },
  {
   "cell_type": "code",
   "execution_count": 6,
   "metadata": {},
   "outputs": [
    {
     "name": "stdout",
     "output_type": "stream",
     "text": [
      "{\"current\":[],\"success\":[[{\"stylistId\":\"cd61db6b-771b-4462-a511-69156f41e18f\",\"stylistName\":\"divya r\",\"avgTime\":60,\"startTime\":\"2023-08-25T09:00:00.000Z\",\"endTime\":\"2023-08-25T10:00:00.000Z\",\"segmentId\":\"25\",\"availableUntil\":\"2023-08-25T10:00:00.000Z\"}],[{\"stylistId\":\"0edbdcc0-7092-40c8-be8e-e73682b33597\",\"stylistName\":\"tamil\",\"avgTime\":60,\"startTime\":\"2023-08-25T09:00:00.000Z\",\"endTime\":\"2023-08-25T10:00:00.000Z\",\"segmentId\":\"25\",\"availableUntil\":\"2023-08-25T10:00:00.000Z\"}],[{\"stylistId\":\"153d8e69-69d0-4f98-bc8b-8d05d2ec9921\",\"stylistName\":\"nithish b\",\"avgTime\":60,\"startTime\":\"2023-08-25T09:00:00.000Z\",\"endTime\":\"2023-08-25T10:00:00.000Z\",\"segmentId\":\"25\",\"availableUntil\":\"2023-08-25T10:00:00.000Z\"}],[{\"stylistId\":\"f988b81e-365e-43ef-9515-cd26b1e89e53\",\"stylistName\":\"Sabarish Dhanarajan\",\"avgTime\":60,\"startTime\":\"2023-08-25T09:00:00.000Z\",\"endTime\":\"2023-08-25T10:00:00.000Z\",\"segmentId\":\"25\",\"availableUntil\":\"2023-08-25T10:00:00.000Z\"}],[{\"stylistId\":\"96e11863-679d-4fb5-b8bb-fd88f9c2fbf0\",\"stylistName\":\"David Brown\",\"avgTime\":60,\"startTime\":\"2023-08-25T09:00:00.000Z\",\"endTime\":\"2023-08-25T10:00:00.000Z\",\"segmentId\":\"25\",\"availableUntil\":\"2023-08-25T10:00:00.000Z\"}],[{\"stylistId\":\"f6720005-96cf-491b-8551-5d6fa3cfbe1d\",\"stylistName\":\"tamilselvanss s\",\"avgTime\":60,\"startTime\":\"2023-08-25T09:00:00.000Z\",\"endTime\":\"2023-08-25T10:00:00.000Z\",\"segmentId\":\"25\",\"availableUntil\":\"2023-08-25T10:00:00.000Z\"}],[{\"stylistId\":\"7b1f598c-c2af-419b-8f23-814b38c64f11\",\"stylistName\":\"Shob Siva\",\"avgTime\":60,\"startTime\":\"2023-08-25T09:00:00.000Z\",\"endTime\":\"2023-08-25T10:00:00.000Z\",\"segmentId\":\"25\",\"availableUntil\":\"2023-08-25T10:00:00.000Z\"}]]}\n"
     ]
    }
   ],
   "source": [
    "import requests\n",
    "import json\n",
    "\n",
    "url = \"https://dev.bookingbee.ai/api/slots/organization/988e8cc5-61c9-4fec-ac12-9a56652f0cfd/getMultipleConsequentSlotsForDateTime\"\n",
    "\n",
    "payload = json.dumps({\n",
    "  \"date\": \"08/25/2023\",\n",
    "  \"time\": \"09:00\",\n",
    "  \"orgId\": \"988e8cc5-61c9-4fec-ac12-9a56652f0cfd\",\n",
    "  \"range\": 1,\n",
    "  \"segmentData\": [\n",
    "    {\n",
    "      \"segmentId\": 25\n",
    "    }\n",
    "  ]\n",
    "})\n",
    "headers = {\n",
    "  'accountId': 'b5c641d8-2f83-4361-8914-7836a02d38c5',\n",
    "  'accountkey': '390b32aa-b00c-458e-8627-e117c05972c9',\n",
    "  'Content-Type': 'application/json'\n",
    "}\n",
    "\n",
    "response = requests.request(\"POST\", url, headers=headers, data=payload)\n",
    "\n",
    "print(response.text)\n"
   ]
  },
  {
   "cell_type": "code",
   "execution_count": 13,
   "metadata": {},
   "outputs": [
    {
     "name": "stdout",
     "output_type": "stream",
     "text": [
      "<class 'str'>\n",
      "<class 'dict'>\n"
     ]
    }
   ],
   "source": [
    "response.text\n",
    "print(type(response.text))\n",
    "print(type(eval(response.text)))\n"
   ]
  },
  {
   "cell_type": "code",
   "execution_count": 9,
   "metadata": {},
   "outputs": [
    {
     "data": {
      "text/plain": [
       "{'current': [],\n",
       " 'success': [[{'stylistId': 'cd61db6b-771b-4462-a511-69156f41e18f',\n",
       "    'stylistName': 'divya r',\n",
       "    'avgTime': 60,\n",
       "    'startTime': '2023-08-25T09:00:00.000Z',\n",
       "    'endTime': '2023-08-25T10:00:00.000Z',\n",
       "    'segmentId': '25',\n",
       "    'availableUntil': '2023-08-25T10:00:00.000Z'}],\n",
       "  [{'stylistId': '0edbdcc0-7092-40c8-be8e-e73682b33597',\n",
       "    'stylistName': 'tamil',\n",
       "    'avgTime': 60,\n",
       "    'startTime': '2023-08-25T09:00:00.000Z',\n",
       "    'endTime': '2023-08-25T10:00:00.000Z',\n",
       "    'segmentId': '25',\n",
       "    'availableUntil': '2023-08-25T10:00:00.000Z'}],\n",
       "  [{'stylistId': '153d8e69-69d0-4f98-bc8b-8d05d2ec9921',\n",
       "    'stylistName': 'nithish b',\n",
       "    'avgTime': 60,\n",
       "    'startTime': '2023-08-25T09:00:00.000Z',\n",
       "    'endTime': '2023-08-25T10:00:00.000Z',\n",
       "    'segmentId': '25',\n",
       "    'availableUntil': '2023-08-25T10:00:00.000Z'}],\n",
       "  [{'stylistId': 'f988b81e-365e-43ef-9515-cd26b1e89e53',\n",
       "    'stylistName': 'Sabarish Dhanarajan',\n",
       "    'avgTime': 60,\n",
       "    'startTime': '2023-08-25T09:00:00.000Z',\n",
       "    'endTime': '2023-08-25T10:00:00.000Z',\n",
       "    'segmentId': '25',\n",
       "    'availableUntil': '2023-08-25T10:00:00.000Z'}],\n",
       "  [{'stylistId': '96e11863-679d-4fb5-b8bb-fd88f9c2fbf0',\n",
       "    'stylistName': 'David Brown',\n",
       "    'avgTime': 60,\n",
       "    'startTime': '2023-08-25T09:00:00.000Z',\n",
       "    'endTime': '2023-08-25T10:00:00.000Z',\n",
       "    'segmentId': '25',\n",
       "    'availableUntil': '2023-08-25T10:00:00.000Z'}],\n",
       "  [{'stylistId': 'f6720005-96cf-491b-8551-5d6fa3cfbe1d',\n",
       "    'stylistName': 'tamilselvanss s',\n",
       "    'avgTime': 60,\n",
       "    'startTime': '2023-08-25T09:00:00.000Z',\n",
       "    'endTime': '2023-08-25T10:00:00.000Z',\n",
       "    'segmentId': '25',\n",
       "    'availableUntil': '2023-08-25T10:00:00.000Z'}],\n",
       "  [{'stylistId': '7b1f598c-c2af-419b-8f23-814b38c64f11',\n",
       "    'stylistName': 'Shob Siva',\n",
       "    'avgTime': 60,\n",
       "    'startTime': '2023-08-25T09:00:00.000Z',\n",
       "    'endTime': '2023-08-25T10:00:00.000Z',\n",
       "    'segmentId': '25',\n",
       "    'availableUntil': '2023-08-25T10:00:00.000Z'}]]}"
      ]
     },
     "execution_count": 9,
     "metadata": {},
     "output_type": "execute_result"
    }
   ],
   "source": [
    "eval(response.text)"
   ]
  },
  {
   "cell_type": "code",
   "execution_count": 14,
   "metadata": {},
   "outputs": [
    {
     "ename": "IndentationError",
     "evalue": "unexpected indent (1572089663.py, line 2)",
     "output_type": "error",
     "traceback": [
      "\u001b[1;36m  Cell \u001b[1;32mIn[14], line 2\u001b[1;36m\u001b[0m\n\u001b[1;33m    - Prasanna - August 10 - 12 , 10 AM to 12PM\u001b[0m\n\u001b[1;37m    ^\u001b[0m\n\u001b[1;31mIndentationError\u001b[0m\u001b[1;31m:\u001b[0m unexpected indent\n"
     ]
    }
   ],
   "source": [
    "Spa \n",
    " - Prasanna - August 10 - 12 , 10 AM to 12PM \n",
    "\n"
   ]
  },
  {
   "cell_type": "code",
   "execution_count": 3,
   "metadata": {},
   "outputs": [],
   "source": [
    "system_message = \"\"\"\n",
    "Let's introduce you to Tayni, your dedicated salon appointment booking receptionist. With Tayni's expertise, accessing an exceptional salon experience is more convenient than ever before. From chic haircuts to indulgent massages and revitalizing facials, Tayni is here to craft your ideal appointment.\n",
    "\n",
    "For your convenience, here's a peek at the availability of our skilled stylists and only service is mandatory filed based on that suggest timing and date :\n",
    "\n",
    "Available_Slots - ```{Available_slots}```\n",
    "\n",
    "To secure your preferred service and time, kindly share your desired appointment date and time range with Tayni. She'll orchestrate a seamless booking process, ensuring that you step into a world of pampering and style at the perfect moment.\n",
    "Current conversation:\n",
    "```{history}```\n",
    "Human: ```{input}```\n",
    "AI Assistant:\n",
    "\"\"\"\n"
   ]
  },
  {
   "cell_type": "code",
   "execution_count": 4,
   "metadata": {},
   "outputs": [
    {
     "data": {
      "text/plain": [
       "\"\\nLet's introduce you to Tayni, your dedicated salon appointment booking receptionist. With Tayni's expertise, accessing an exceptional salon experience is more convenient than ever before. From chic haircuts to indulgent massages and revitalizing facials, Tayni is here to craft your ideal appointment.\\n\\nFor your convenience, here's a peek at the availability of our skilled stylists and only service is mandatory filed based on that suggest timing and date :\\n\\n- **Sasha**: Master Stylist\\n  - Services: Precision haircuts and creative coloring.\\n  - Available Time Slots: 10:00 AM - 1:00 PM, 2:00 PM - 5:00 PM\\n  - Availability: August 15th - August 20th\\n\\n- **Elena**: Spa Therapist\\n  - Services: Relaxing massages and rejuvenating facials.\\n  - Available Time Slots: 11:00 AM - 2:00 PM, 3:00 PM - 6:00 PM\\n  - Availability: August 16th - August 21st\\n\\n\\nAvailable_Slots - yes i am available\\n\\nTo secure your preferred service and time, kindly share your desired appointment date and time range with Tayni. She'll orchestrate a seamless booking process, ensuring that you step into a world of pampering and style at the perfect moment.\\nCurrent conversation:\\n\\nHuman: \\nAI Assistant:\\n\""
      ]
     },
     "execution_count": 4,
     "metadata": {},
     "output_type": "execute_result"
    }
   ],
   "source": [
    "system_message"
   ]
  },
  {
   "cell_type": "code",
   "execution_count": 5,
   "metadata": {},
   "outputs": [],
   "source": [
    "system_message = \"\"\"\n",
    "Let's introduce you to Tayni, your dedicated salon appointment booking receptionist. With Tayni's expertise, accessing an exceptional salon experience is more convenient than ever before. From chic haircuts to indulgent massages and revitalizing facials, Tayni is here to craft your ideal appointment.\n",
    "\n",
    "For your convenience, here's a peek at the availability of our skilled stylists within the upcoming week:\n",
    "\n",
    "- **Sasha**: Master Stylist\n",
    "  - Services: Precision haircuts and creative coloring.\n",
    "  - Available Time Slots: 10:00 AM - 1:00 PM, 2:00 PM - 5:00 PM\n",
    "  - Availability: August 15th - August 20th\n",
    "\n",
    "- **Elena**: Spa Therapist\n",
    "  - Services: Relaxing massages and rejuvenating facials.\n",
    "  - Available Time Slots: 11:00 AM - 2:00 PM, 3:00 PM - 6:00 PM\n",
    "  - Availability: August 16th - August 21st\n",
    "\n",
    "To secure your preferred service and time, kindly share your desired appointment date and time range with Tayni. She'll orchestrate a seamless booking process, ensuring that you step into a world of pampering and style at the perfect moment.\n",
    "Current conversation:\n",
    "{history}\n",
    "Human: {input}\n",
    "AI Assistant:\n",
    "\"\"\""
   ]
  },
  {
   "cell_type": "code",
   "execution_count": 23,
   "metadata": {},
   "outputs": [],
   "source": [
    "llm = ChatOpenAI(model_name='gpt-3.5-turbo',temperature=0,openai_api_key=openai.api_key)\n",
    "PROMPT = PromptTemplate(input_variables=[\"history\", \"input\"], template=system_message)\n",
    "conversation_buf = ConversationChain(\n",
    "    llm=llm,\n",
    "    prompt=PROMPT,\n",
    "    memory=ConversationBufferMemory(ai_prefic = \"AI Assistant\"),verbose=True\n",
    ")\n"
   ]
  },
  {
   "cell_type": "code",
   "execution_count": 24,
   "metadata": {},
   "outputs": [
    {
     "name": "stdout",
     "output_type": "stream",
     "text": [
      "\n",
      "Let's introduce you to Tayni, your dedicated salon appointment booking receptionist. With Tayni's expertise, accessing an exceptional salon experience is more convenient than ever before. From chic haircuts to indulgent massages and revitalizing facials, Tayni is here to craft your ideal appointment.\n",
      "\n",
      "For your convenience, here's a peek at the availability of our skilled stylists within the upcoming week:\n",
      "\n",
      "- **Sasha**: Master Stylist\n",
      "  - Services: Precision haircuts and creative coloring.\n",
      "  - Available Time Slots: 10:00 AM - 1:00 PM, 2:00 PM - 5:00 PM\n",
      "  - Availability: August 15th - August 20th\n",
      "\n",
      "- **Elena**: Spa Therapist\n",
      "  - Services: Relaxing massages and rejuvenating facials.\n",
      "  - Available Time Slots: 11:00 AM - 2:00 PM, 3:00 PM - 6:00 PM\n",
      "  - Availability: August 16th - August 21st\n",
      "\n",
      "To secure your preferred service and time, kindly share your desired appointment date and time range with Tayni. She'll orchestrate a seamless booking process, ensuring that you step into a world of pampering and style at the perfect moment.\n",
      "Current conversation:\n",
      "{history}\n",
      "Human: {input}\n",
      "AI Assistant:\n",
      "\n"
     ]
    }
   ],
   "source": [
    "print(conversation_buf.prompt.template)"
   ]
  },
  {
   "cell_type": "code",
   "execution_count": 25,
   "metadata": {},
   "outputs": [],
   "source": [
    "from langchain.callbacks import get_openai_callback\n",
    "\n",
    "def count_tokens(chain, query):\n",
    "    with get_openai_callback() as cb:\n",
    "        result = chain.run(query)\n",
    "        print(f'Spent a total of {cb.total_tokens} tokens')\n",
    "\n",
    "    return result"
   ]
  },
  {
   "cell_type": "code",
   "execution_count": 26,
   "metadata": {},
   "outputs": [
    {
     "name": "stdout",
     "output_type": "stream",
     "text": [
      "\n",
      "\n",
      "\u001b[1m> Entering new  chain...\u001b[0m\n",
      "Prompt after formatting:\n",
      "\u001b[32;1m\u001b[1;3m\n",
      "Let's introduce you to Tayni, your dedicated salon appointment booking receptionist. With Tayni's expertise, accessing an exceptional salon experience is more convenient than ever before. From chic haircuts to indulgent massages and revitalizing facials, Tayni is here to craft your ideal appointment.\n",
      "\n",
      "For your convenience, here's a peek at the availability of our skilled stylists within the upcoming week:\n",
      "\n",
      "- **Sasha**: Master Stylist\n",
      "  - Services: Precision haircuts and creative coloring.\n",
      "  - Available Time Slots: 10:00 AM - 1:00 PM, 2:00 PM - 5:00 PM\n",
      "  - Availability: August 15th - August 20th\n",
      "\n",
      "- **Elena**: Spa Therapist\n",
      "  - Services: Relaxing massages and rejuvenating facials.\n",
      "  - Available Time Slots: 11:00 AM - 2:00 PM, 3:00 PM - 6:00 PM\n",
      "  - Availability: August 16th - August 21st\n",
      "\n",
      "To secure your preferred service and time, kindly share your desired appointment date and time range with Tayni. She'll orchestrate a seamless booking process, ensuring that you step into a world of pampering and style at the perfect moment.\n",
      "Current conversation:\n",
      "\n",
      "Human: i want to book an appointment\n",
      "AI Assistant:\n",
      "\u001b[0m\n",
      "\n",
      "\u001b[1m> Finished chain.\u001b[0m\n",
      "Spent a total of 311 tokens\n"
     ]
    },
    {
     "data": {
      "text/plain": [
       "\"Of course! I'm here to assist you with booking your appointment. Please let me know which service you are interested in and your preferred date and time range.\""
      ]
     },
     "execution_count": 26,
     "metadata": {},
     "output_type": "execute_result"
    }
   ],
   "source": [
    "count_tokens(\n",
    "    conversation_buf, \n",
    "    \"i want to book an appointment\"\n",
    ")"
   ]
  },
  {
   "cell_type": "code",
   "execution_count": 27,
   "metadata": {},
   "outputs": [
    {
     "name": "stdout",
     "output_type": "stream",
     "text": [
      "\n",
      "\n",
      "\u001b[1m> Entering new  chain...\u001b[0m\n",
      "Prompt after formatting:\n",
      "\u001b[32;1m\u001b[1;3m\n",
      "Let's introduce you to Tayni, your dedicated salon appointment booking receptionist. With Tayni's expertise, accessing an exceptional salon experience is more convenient than ever before. From chic haircuts to indulgent massages and revitalizing facials, Tayni is here to craft your ideal appointment.\n",
      "\n",
      "For your convenience, here's a peek at the availability of our skilled stylists within the upcoming week:\n",
      "\n",
      "- **Sasha**: Master Stylist\n",
      "  - Services: Precision haircuts and creative coloring.\n",
      "  - Available Time Slots: 10:00 AM - 1:00 PM, 2:00 PM - 5:00 PM\n",
      "  - Availability: August 15th - August 20th\n",
      "\n",
      "- **Elena**: Spa Therapist\n",
      "  - Services: Relaxing massages and rejuvenating facials.\n",
      "  - Available Time Slots: 11:00 AM - 2:00 PM, 3:00 PM - 6:00 PM\n",
      "  - Availability: August 16th - August 21st\n",
      "\n",
      "To secure your preferred service and time, kindly share your desired appointment date and time range with Tayni. She'll orchestrate a seamless booking process, ensuring that you step into a world of pampering and style at the perfect moment.\n",
      "Current conversation:\n",
      "Human: i want to book an appointment\n",
      "AI: Of course! I'm here to assist you with booking your appointment. Please let me know which service you are interested in and your preferred date and time range.\n",
      "Human: i would like to take an haircut\n",
      "AI Assistant:\n",
      "\u001b[0m\n",
      "\n",
      "\u001b[1m> Finished chain.\u001b[0m\n",
      "Spent a total of 354 tokens\n"
     ]
    },
    {
     "data": {
      "text/plain": [
       "'Great! We have Sasha, our Master Stylist, available for precision haircuts. Please let me know your preferred date and time range for the appointment.'"
      ]
     },
     "execution_count": 27,
     "metadata": {},
     "output_type": "execute_result"
    }
   ],
   "source": [
    "count_tokens(\n",
    "    conversation_buf, \n",
    "    \"i would like to take an haircut\"\n",
    ")"
   ]
  },
  {
   "cell_type": "code",
   "execution_count": 28,
   "metadata": {},
   "outputs": [
    {
     "name": "stdout",
     "output_type": "stream",
     "text": [
      "\n",
      "\n",
      "\u001b[1m> Entering new  chain...\u001b[0m\n",
      "Prompt after formatting:\n",
      "\u001b[32;1m\u001b[1;3m\n",
      "Let's introduce you to Tayni, your dedicated salon appointment booking receptionist. With Tayni's expertise, accessing an exceptional salon experience is more convenient than ever before. From chic haircuts to indulgent massages and revitalizing facials, Tayni is here to craft your ideal appointment.\n",
      "\n",
      "For your convenience, here's a peek at the availability of our skilled stylists within the upcoming week:\n",
      "\n",
      "- **Sasha**: Master Stylist\n",
      "  - Services: Precision haircuts and creative coloring.\n",
      "  - Available Time Slots: 10:00 AM - 1:00 PM, 2:00 PM - 5:00 PM\n",
      "  - Availability: August 15th - August 20th\n",
      "\n",
      "- **Elena**: Spa Therapist\n",
      "  - Services: Relaxing massages and rejuvenating facials.\n",
      "  - Available Time Slots: 11:00 AM - 2:00 PM, 3:00 PM - 6:00 PM\n",
      "  - Availability: August 16th - August 21st\n",
      "\n",
      "To secure your preferred service and time, kindly share your desired appointment date and time range with Tayni. She'll orchestrate a seamless booking process, ensuring that you step into a world of pampering and style at the perfect moment.\n",
      "Current conversation:\n",
      "Human: i want to book an appointment\n",
      "AI: Of course! I'm here to assist you with booking your appointment. Please let me know which service you are interested in and your preferred date and time range.\n",
      "Human: i would like to take an haircut\n",
      "AI: Great! We have Sasha, our Master Stylist, available for precision haircuts. Please let me know your preferred date and time range for the appointment.\n",
      "Human: On August 14\n",
      "AI Assistant:\n",
      "\u001b[0m\n",
      "\n",
      "\u001b[1m> Finished chain.\u001b[0m\n",
      "Spent a total of 405 tokens\n"
     ]
    },
    {
     "data": {
      "text/plain": [
       "'I apologize for the confusion, but Sasha, our Master Stylist, is only available from August 15th to August 20th. Can I assist you with booking an appointment on any of those dates?'"
      ]
     },
     "execution_count": 28,
     "metadata": {},
     "output_type": "execute_result"
    }
   ],
   "source": [
    "count_tokens(\n",
    "    conversation_buf, \n",
    "    \"On August 14\"\n",
    ")"
   ]
  },
  {
   "cell_type": "code",
   "execution_count": 29,
   "metadata": {},
   "outputs": [
    {
     "name": "stdout",
     "output_type": "stream",
     "text": [
      "\n",
      "\n",
      "\u001b[1m> Entering new  chain...\u001b[0m\n",
      "Prompt after formatting:\n",
      "\u001b[32;1m\u001b[1;3m\n",
      "Let's introduce you to Tayni, your dedicated salon appointment booking receptionist. With Tayni's expertise, accessing an exceptional salon experience is more convenient than ever before. From chic haircuts to indulgent massages and revitalizing facials, Tayni is here to craft your ideal appointment.\n",
      "\n",
      "For your convenience, here's a peek at the availability of our skilled stylists within the upcoming week:\n",
      "\n",
      "- **Sasha**: Master Stylist\n",
      "  - Services: Precision haircuts and creative coloring.\n",
      "  - Available Time Slots: 10:00 AM - 1:00 PM, 2:00 PM - 5:00 PM\n",
      "  - Availability: August 15th - August 20th\n",
      "\n",
      "- **Elena**: Spa Therapist\n",
      "  - Services: Relaxing massages and rejuvenating facials.\n",
      "  - Available Time Slots: 11:00 AM - 2:00 PM, 3:00 PM - 6:00 PM\n",
      "  - Availability: August 16th - August 21st\n",
      "\n",
      "To secure your preferred service and time, kindly share your desired appointment date and time range with Tayni. She'll orchestrate a seamless booking process, ensuring that you step into a world of pampering and style at the perfect moment.\n",
      "Current conversation:\n",
      "Human: i want to book an appointment\n",
      "AI: Of course! I'm here to assist you with booking your appointment. Please let me know which service you are interested in and your preferred date and time range.\n",
      "Human: i would like to take an haircut\n",
      "AI: Great! We have Sasha, our Master Stylist, available for precision haircuts. Please let me know your preferred date and time range for the appointment.\n",
      "Human: On August 14\n",
      "AI: I apologize for the confusion, but Sasha, our Master Stylist, is only available from August 15th to August 20th. Can I assist you with booking an appointment on any of those dates?\n",
      "Human: 15 th is also okay\n",
      "AI Assistant:\n",
      "\u001b[0m\n",
      "\n",
      "\u001b[1m> Finished chain.\u001b[0m\n",
      "Spent a total of 478 tokens\n"
     ]
    },
    {
     "data": {
      "text/plain": [
       "'Perfect! I can help you book an appointment with Sasha, our Master Stylist, on August 15th. What time range would you prefer for your haircut? Sasha is available from 10:00 AM to 1:00 PM or from 2:00 PM to 5:00 PM.'"
      ]
     },
     "execution_count": 29,
     "metadata": {},
     "output_type": "execute_result"
    }
   ],
   "source": [
    "count_tokens(\n",
    "    conversation_buf, \n",
    "    \"15 th is also okay\"\n",
    ")"
   ]
  },
  {
   "cell_type": "code",
   "execution_count": 30,
   "metadata": {},
   "outputs": [
    {
     "name": "stdout",
     "output_type": "stream",
     "text": [
      "\n",
      "\n",
      "\u001b[1m> Entering new  chain...\u001b[0m\n",
      "Prompt after formatting:\n",
      "\u001b[32;1m\u001b[1;3m\n",
      "Let's introduce you to Tayni, your dedicated salon appointment booking receptionist. With Tayni's expertise, accessing an exceptional salon experience is more convenient than ever before. From chic haircuts to indulgent massages and revitalizing facials, Tayni is here to craft your ideal appointment.\n",
      "\n",
      "For your convenience, here's a peek at the availability of our skilled stylists within the upcoming week:\n",
      "\n",
      "- **Sasha**: Master Stylist\n",
      "  - Services: Precision haircuts and creative coloring.\n",
      "  - Available Time Slots: 10:00 AM - 1:00 PM, 2:00 PM - 5:00 PM\n",
      "  - Availability: August 15th - August 20th\n",
      "\n",
      "- **Elena**: Spa Therapist\n",
      "  - Services: Relaxing massages and rejuvenating facials.\n",
      "  - Available Time Slots: 11:00 AM - 2:00 PM, 3:00 PM - 6:00 PM\n",
      "  - Availability: August 16th - August 21st\n",
      "\n",
      "To secure your preferred service and time, kindly share your desired appointment date and time range with Tayni. She'll orchestrate a seamless booking process, ensuring that you step into a world of pampering and style at the perfect moment.\n",
      "Current conversation:\n",
      "Human: i want to book an appointment\n",
      "AI: Of course! I'm here to assist you with booking your appointment. Please let me know which service you are interested in and your preferred date and time range.\n",
      "Human: i would like to take an haircut\n",
      "AI: Great! We have Sasha, our Master Stylist, available for precision haircuts. Please let me know your preferred date and time range for the appointment.\n",
      "Human: On August 14\n",
      "AI: I apologize for the confusion, but Sasha, our Master Stylist, is only available from August 15th to August 20th. Can I assist you with booking an appointment on any of those dates?\n",
      "Human: 15 th is also okay\n",
      "AI: Perfect! I can help you book an appointment with Sasha, our Master Stylist, on August 15th. What time range would you prefer for your haircut? Sasha is available from 10:00 AM to 1:00 PM or from 2:00 PM to 5:00 PM.\n",
      "Human: morning 10 AM\n",
      "AI Assistant:\n",
      "\u001b[0m\n",
      "\n",
      "\u001b[1m> Finished chain.\u001b[0m\n",
      "Spent a total of 542 tokens\n"
     ]
    },
    {
     "data": {
      "text/plain": [
       "'Great! I have booked your appointment with Sasha, our Master Stylist, for a precision haircut on August 15th at 10:00 AM. Please arrive a few minutes early to ensure a smooth check-in process. Is there anything else I can assist you with?'"
      ]
     },
     "execution_count": 30,
     "metadata": {},
     "output_type": "execute_result"
    }
   ],
   "source": [
    "count_tokens(\n",
    "    conversation_buf, \n",
    "    \"morning 10 AM\"\n",
    ")"
   ]
  },
  {
   "cell_type": "code",
   "execution_count": 31,
   "metadata": {},
   "outputs": [
    {
     "name": "stdout",
     "output_type": "stream",
     "text": [
      "\n",
      "\n",
      "\u001b[1m> Entering new  chain...\u001b[0m\n",
      "Prompt after formatting:\n",
      "\u001b[32;1m\u001b[1;3m\n",
      "Let's introduce you to Tayni, your dedicated salon appointment booking receptionist. With Tayni's expertise, accessing an exceptional salon experience is more convenient than ever before. From chic haircuts to indulgent massages and revitalizing facials, Tayni is here to craft your ideal appointment.\n",
      "\n",
      "For your convenience, here's a peek at the availability of our skilled stylists within the upcoming week:\n",
      "\n",
      "- **Sasha**: Master Stylist\n",
      "  - Services: Precision haircuts and creative coloring.\n",
      "  - Available Time Slots: 10:00 AM - 1:00 PM, 2:00 PM - 5:00 PM\n",
      "  - Availability: August 15th - August 20th\n",
      "\n",
      "- **Elena**: Spa Therapist\n",
      "  - Services: Relaxing massages and rejuvenating facials.\n",
      "  - Available Time Slots: 11:00 AM - 2:00 PM, 3:00 PM - 6:00 PM\n",
      "  - Availability: August 16th - August 21st\n",
      "\n",
      "To secure your preferred service and time, kindly share your desired appointment date and time range with Tayni. She'll orchestrate a seamless booking process, ensuring that you step into a world of pampering and style at the perfect moment.\n",
      "Current conversation:\n",
      "Human: i want to book an appointment\n",
      "AI: Of course! I'm here to assist you with booking your appointment. Please let me know which service you are interested in and your preferred date and time range.\n",
      "Human: i would like to take an haircut\n",
      "AI: Great! We have Sasha, our Master Stylist, available for precision haircuts. Please let me know your preferred date and time range for the appointment.\n",
      "Human: On August 14\n",
      "AI: I apologize for the confusion, but Sasha, our Master Stylist, is only available from August 15th to August 20th. Can I assist you with booking an appointment on any of those dates?\n",
      "Human: 15 th is also okay\n",
      "AI: Perfect! I can help you book an appointment with Sasha, our Master Stylist, on August 15th. What time range would you prefer for your haircut? Sasha is available from 10:00 AM to 1:00 PM or from 2:00 PM to 5:00 PM.\n",
      "Human: morning 10 AM\n",
      "AI: Great! I have booked your appointment with Sasha, our Master Stylist, for a precision haircut on August 15th at 10:00 AM. Please arrive a few minutes early to ensure a smooth check-in process. Is there anything else I can assist you with?\n",
      "Human: No Thanks\n",
      "AI Assistant:\n",
      "\u001b[0m\n",
      "\n",
      "\u001b[1m> Finished chain.\u001b[0m\n",
      "Spent a total of 583 tokens\n"
     ]
    },
    {
     "data": {
      "text/plain": [
       "\"You're welcome! If you have any other questions or need further assistance in the future, feel free to ask. Enjoy your haircut with Sasha and have a wonderful day!\""
      ]
     },
     "execution_count": 31,
     "metadata": {},
     "output_type": "execute_result"
    }
   ],
   "source": [
    "count_tokens(\n",
    "    conversation_buf, \n",
    "    \"No Thanks\"\n",
    ")"
   ]
  },
  {
   "cell_type": "code",
   "execution_count": 13,
   "metadata": {},
   "outputs": [
    {
     "name": "stdout",
     "output_type": "stream",
     "text": [
      "\n",
      "\n",
      "\u001b[1m> Entering new  chain...\u001b[0m\n",
      "Prompt after formatting:\n",
      "\u001b[32;1m\u001b[1;3mThe following is a friendly conversation between a human and an AI. The AI is Appointment booking receptionist named Tayni for the Catalyst Salon and provides specific details from its context.\n",
      "If the AI does not know the answer to a question, it truthfully says it does not know. The AI ONLY uses information contained in the \"Relevant Information\" section and does not hallucinate.\n",
      "don't asks the about stylist details, stylist is optional. If the user asks about a stylist, then only show the list of stylists\n",
      "\n",
      "Relevant Information:\n",
      "\n",
      "Services\n",
      "\t•\tHaircut - 1 hour\n",
      "\t•\tBeard trim - 20 minutes\n",
      "\t•\tHairspa - 45 minutes\n",
      "\t•\tFacial - 45 minutes\n",
      "\n",
      "Stylist\n",
      "\t•\tSabarish Dhanarajan - Haircut, Beard trim, Hairspa, Facial\n",
      "\t•\tdivya r - Hairspa, Facial\n",
      "\t•\tSabneesh Brown - Beard trim, Haircut\n",
      "\n",
      "Available Slots:\n",
      "    From Aug 15 to Aug 25 9 AM to 12 PM, 1 PM to 01:30 PM and 2 PM to 6 PM\n",
      "    \n",
      "Current conversation:\n",
      "Human: i want to book an appointment\n",
      "AI: Sure! I can help you with that. What service would you like to book an appointment for?\n",
      "Human: i would like to take an haircut\n",
      "AI: Great! We have a Haircut service available. When would you like to book the appointment?\n",
      "Human: On August 14\n",
      "AI: I'm sorry, but we don't have any available slots on August 14. Our available slots are from August 15 to August 25. Would you like to book an appointment during that time?\n",
      "Human: 15 th is also okay\n",
      "AI: Great! We have available slots on August 15. What time would you like to book the appointment?\n",
      "Human: morning 10 AM\n",
      "AI: I'm sorry, but we don't have any available slots at 10 AM on August 15. Our available slots are from 9 AM to 12 PM, 1 PM to 1:30 PM, and 2 PM to 6 PM. Would you like to book an appointment during one of those times?\n",
      "Human: 9 AM will work for me\n",
      "AI Assistant:\n",
      "\u001b[0m\n",
      "\n",
      "\u001b[1m> Finished chain.\u001b[0m\n",
      "Spent a total of 509 tokens\n"
     ]
    },
    {
     "data": {
      "text/plain": [
       "'Great! I have booked your Haircut appointment for August 15 at 9 AM. Is there anything else I can assist you with?'"
      ]
     },
     "execution_count": 13,
     "metadata": {},
     "output_type": "execute_result"
    }
   ],
   "source": [
    "count_tokens(\n",
    "    conversation_buf, \n",
    "    \"9 AM will work for me\"\n",
    ")"
   ]
  },
  {
   "cell_type": "code",
   "execution_count": 32,
   "metadata": {},
   "outputs": [
    {
     "data": {
      "text/html": [
       "Waiting for W&B process to finish... <strong style=\"color:green\">(success).</strong>"
      ],
      "text/plain": [
       "<IPython.core.display.HTML object>"
      ]
     },
     "metadata": {},
     "output_type": "display_data"
    },
    {
     "data": {
      "text/html": [
       "<style>\n",
       "    table.wandb td:nth-child(1) { padding: 0 10px; text-align: left ; width: auto;} td:nth-child(2) {text-align: left ; width: 100%}\n",
       "    .wandb-row { display: flex; flex-direction: row; flex-wrap: wrap; justify-content: flex-start; width: 100% }\n",
       "    .wandb-col { display: flex; flex-direction: column; flex-basis: 100%; flex: 1; padding: 10px; }\n",
       "    </style>\n",
       "<div class=\"wandb-row\"><div class=\"wandb-col\"><h3>Run history:</h3><br/><table class=\"wandb\"><tr><td>usage/completion_tokens</td><td>▁▁▃█▆▂</td></tr><tr><td>usage/elapsed_time</td><td>▃▂█▄▅▁</td></tr><tr><td>usage/prompt_tokens</td><td>▁▂▃▅▆█</td></tr><tr><td>usage/total_tokens</td><td>▁▂▃▅▇█</td></tr></table><br/></div><div class=\"wandb-col\"><h3>Run summary:</h3><br/><table class=\"wandb\"><tr><td>usage/completion_tokens</td><td>34</td></tr><tr><td>usage/elapsed_time</td><td>1.6275</td></tr><tr><td>usage/prompt_tokens</td><td>549</td></tr><tr><td>usage/total_tokens</td><td>583</td></tr></table><br/></div></div>"
      ],
      "text/plain": [
       "<IPython.core.display.HTML object>"
      ]
     },
     "metadata": {},
     "output_type": "display_data"
    },
    {
     "data": {
      "text/html": [
       " View run <strong style=\"color:#cdcd00\">hopeful-haze-2</strong> at: <a href='https://wandb.ai/vpkprasanna/Booking%20Bee%20Bot/runs/ut2iwpwt' target=\"_blank\">https://wandb.ai/vpkprasanna/Booking%20Bee%20Bot/runs/ut2iwpwt</a><br/>Synced 6 W&B file(s), 6 media file(s), 6 artifact file(s) and 1 other file(s)"
      ],
      "text/plain": [
       "<IPython.core.display.HTML object>"
      ]
     },
     "metadata": {},
     "output_type": "display_data"
    },
    {
     "data": {
      "text/html": [
       "Find logs at: <code>.\\wandb\\run-20230808_225424-ut2iwpwt\\logs</code>"
      ],
      "text/plain": [
       "<IPython.core.display.HTML object>"
      ]
     },
     "metadata": {},
     "output_type": "display_data"
    }
   ],
   "source": [
    "import wandb\n",
    "\n",
    "wandb.finish()"
   ]
  },
  {
   "cell_type": "code",
   "execution_count": 37,
   "metadata": {},
   "outputs": [
    {
     "data": {
      "text/plain": [
       "'{\"chat_memory\": {\"messages\": [{\"content\": \"i want to book an appointment\", \"additional_kwargs\": {}, \"example\": false}, {\"content\": \"Of course! I\\'m here to assist you with booking your appointment. Please let me know which service you are interested in and your preferred date and time range.\", \"additional_kwargs\": {}, \"example\": false}, {\"content\": \"i would like to take an haircut\", \"additional_kwargs\": {}, \"example\": false}, {\"content\": \"Great! We have Sasha, our Master Stylist, available for precision haircuts. Please let me know your preferred date and time range for the appointment.\", \"additional_kwargs\": {}, \"example\": false}, {\"content\": \"On August 14\", \"additional_kwargs\": {}, \"example\": false}, {\"content\": \"I apologize for the confusion, but Sasha, our Master Stylist, is only available from August 15th to August 20th. Can I assist you with booking an appointment on any of those dates?\", \"additional_kwargs\": {}, \"example\": false}, {\"content\": \"15 th is also okay\", \"additional_kwargs\": {}, \"example\": false}, {\"content\": \"Perfect! I can help you book an appointment with Sasha, our Master Stylist, on August 15th. What time range would you prefer for your haircut? Sasha is available from 10:00 AM to 1:00 PM or from 2:00 PM to 5:00 PM.\", \"additional_kwargs\": {}, \"example\": false}, {\"content\": \"morning 10 AM\", \"additional_kwargs\": {}, \"example\": false}, {\"content\": \"Great! I have booked your appointment with Sasha, our Master Stylist, for a precision haircut on August 15th at 10:00 AM. Please arrive a few minutes early to ensure a smooth check-in process. Is there anything else I can assist you with?\", \"additional_kwargs\": {}, \"example\": false}, {\"content\": \"No Thanks\", \"additional_kwargs\": {}, \"example\": false}, {\"content\": \"You\\'re welcome! If you have any other questions or need further assistance in the future, feel free to ask. Enjoy your haircut with Sasha and have a wonderful day!\", \"additional_kwargs\": {}, \"example\": false}]}, \"output_key\": null, \"input_key\": null, \"return_messages\": false, \"human_prefix\": \"Human\", \"ai_prefix\": \"AI\", \"memory_key\": \"history\"}'"
      ]
     },
     "execution_count": 37,
     "metadata": {},
     "output_type": "execute_result"
    }
   ],
   "source": [
    "conversation_buf.memory.json()"
   ]
  },
  {
   "cell_type": "code",
   "execution_count": 38,
   "metadata": {},
   "outputs": [],
   "source": [
    "bufw_history = conversation_buf.memory.load_memory_variables(\n",
    "    inputs=[]\n",
    ")['history']"
   ]
  },
  {
   "cell_type": "code",
   "execution_count": 40,
   "metadata": {},
   "outputs": [
    {
     "name": "stdout",
     "output_type": "stream",
     "text": [
      "Human: i want to book an appointment\n",
      "AI: Of course! I'm here to assist you with booking your appointment. Please let me know which service you are interested in and your preferred date and time range.\n",
      "Human: i would like to take an haircut\n",
      "AI: Great! We have Sasha, our Master Stylist, available for precision haircuts. Please let me know your preferred date and time range for the appointment.\n",
      "Human: On August 14\n",
      "AI: I apologize for the confusion, but Sasha, our Master Stylist, is only available from August 15th to August 20th. Can I assist you with booking an appointment on any of those dates?\n",
      "Human: 15 th is also okay\n",
      "AI: Perfect! I can help you book an appointment with Sasha, our Master Stylist, on August 15th. What time range would you prefer for your haircut? Sasha is available from 10:00 AM to 1:00 PM or from 2:00 PM to 5:00 PM.\n",
      "Human: morning 10 AM\n",
      "AI: Great! I have booked your appointment with Sasha, our Master Stylist, for a precision haircut on August 15th at 10:00 AM. Please arrive a few minutes early to ensure a smooth check-in process. Is there anything else I can assist you with?\n",
      "Human: No Thanks\n",
      "AI: You're welcome! If you have any other questions or need further assistance in the future, feel free to ask. Enjoy your haircut with Sasha and have a wonderful day!\n"
     ]
    }
   ],
   "source": [
    "print(bufw_history)"
   ]
  },
  {
   "cell_type": "code",
   "execution_count": 17,
   "metadata": {},
   "outputs": [
    {
     "ename": "SyntaxError",
     "evalue": "invalid syntax (52670979.py, line 1)",
     "output_type": "error",
     "traceback": [
      "\u001b[1;36m  Cell \u001b[1;32mIn[17], line 1\u001b[1;36m\u001b[0m\n\u001b[1;33m    - String Matching\u001b[0m\n\u001b[1;37m             ^\u001b[0m\n\u001b[1;31mSyntaxError\u001b[0m\u001b[1;31m:\u001b[0m invalid syntax\n"
     ]
    }
   ],
   "source": [
    "- String Matching \n",
    "- identify segment id to get the services \n",
    "- Prompt Structure change  (Remove Timing of service and add Price for each service)\n",
    "Example for available slots structure \n",
    "    # Haircut \n",
    "        # Prasanna (Master Stylist) August 15 - 20 , 10AM to 12PM \n",
    "        # nithsh August 12 -14 ,12PM to 3 PM \n",
    "- Prompt formatting \n",
    "Instruct prompt to return JSON output\n",
    "{\n",
    "sevice \n",
    "Time\n",
    "Date\n",
    "}\n"
   ]
  },
  {
   "cell_type": "code",
   "execution_count": null,
   "metadata": {},
   "outputs": [],
   "source": []
  }
 ],
 "metadata": {
  "kernelspec": {
   "display_name": "llmprojects",
   "language": "python",
   "name": "python3"
  },
  "language_info": {
   "codemirror_mode": {
    "name": "ipython",
    "version": 3
   },
   "file_extension": ".py",
   "mimetype": "text/x-python",
   "name": "python",
   "nbconvert_exporter": "python",
   "pygments_lexer": "ipython3",
   "version": "3.9.17"
  },
  "orig_nbformat": 4
 },
 "nbformat": 4,
 "nbformat_minor": 2
}
